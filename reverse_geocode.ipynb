{
 "cells": [
  {
   "cell_type": "markdown",
   "metadata": {},
   "source": [
    "# Lets import the necessary libraries for the tutorial. You might face trouble importing geopy and geopandas. Search for resources to know how to install them in anaconda. "
   ]
  },
  {
   "cell_type": "code",
   "execution_count": 1,
   "metadata": {},
   "outputs": [],
   "source": [
    "import pandas as pd\n",
    "import geopandas as gpd\n",
    "import geopy\n",
    "from geopy.geocoders import Nominatim"
   ]
  },
  {
   "cell_type": "markdown",
   "metadata": {},
   "source": [
    "# We'll now set the locator"
   ]
  },
  {
   "cell_type": "code",
   "execution_count": 2,
   "metadata": {},
   "outputs": [],
   "source": [
    "locator = Nominatim(user_agent=\"myGeocoder\")"
   ]
  },
  {
   "cell_type": "markdown",
   "metadata": {},
   "source": [
    "# Reading the geocode file that we are going to reverse into addresses"
   ]
  },
  {
   "cell_type": "code",
   "execution_count": 3,
   "metadata": {},
   "outputs": [],
   "source": [
    "data = pd.read_excel(\"lat_lon.xlsx\")"
   ]
  },
  {
   "cell_type": "markdown",
   "metadata": {},
   "source": [
    "# Let's see how it looks. It is a one column dataset containing comma separated latitude and longitude."
   ]
  },
  {
   "cell_type": "code",
   "execution_count": 4,
   "metadata": {
    "scrolled": true
   },
   "outputs": [
    {
     "data": {
      "text/html": [
       "<div>\n",
       "<style scoped>\n",
       "    .dataframe tbody tr th:only-of-type {\n",
       "        vertical-align: middle;\n",
       "    }\n",
       "\n",
       "    .dataframe tbody tr th {\n",
       "        vertical-align: top;\n",
       "    }\n",
       "\n",
       "    .dataframe thead th {\n",
       "        text-align: right;\n",
       "    }\n",
       "</style>\n",
       "<table border=\"1\" class=\"dataframe\">\n",
       "  <thead>\n",
       "    <tr style=\"text-align: right;\">\n",
       "      <th></th>\n",
       "      <th>Location</th>\n",
       "    </tr>\n",
       "  </thead>\n",
       "  <tbody>\n",
       "    <tr>\n",
       "      <th>0</th>\n",
       "      <td>24.8425246, 89.3484334</td>\n",
       "    </tr>\n",
       "    <tr>\n",
       "      <th>1</th>\n",
       "      <td>21.4452963, 91.9711812</td>\n",
       "    </tr>\n",
       "    <tr>\n",
       "      <th>2</th>\n",
       "      <td>22.3661323, 91.8512926</td>\n",
       "    </tr>\n",
       "    <tr>\n",
       "      <th>3</th>\n",
       "      <td>23.8264315, 90.3680908</td>\n",
       "    </tr>\n",
       "    <tr>\n",
       "      <th>4</th>\n",
       "      <td>23.8100632, 90.3794905</td>\n",
       "    </tr>\n",
       "  </tbody>\n",
       "</table>\n",
       "</div>"
      ],
      "text/plain": [
       "                 Location\n",
       "0  24.8425246, 89.3484334\n",
       "1  21.4452963, 91.9711812\n",
       "2  22.3661323, 91.8512926\n",
       "3  23.8264315, 90.3680908\n",
       "4  23.8100632, 90.3794905"
      ]
     },
     "execution_count": 4,
     "metadata": {},
     "output_type": "execute_result"
    }
   ],
   "source": [
    "data.head()"
   ]
  },
  {
   "cell_type": "code",
   "execution_count": 5,
   "metadata": {},
   "outputs": [
    {
     "data": {
      "text/plain": [
       "10"
      ]
     },
     "execution_count": 5,
     "metadata": {},
     "output_type": "execute_result"
    }
   ],
   "source": [
    "len(data)"
   ]
  },
  {
   "cell_type": "code",
   "execution_count": 6,
   "metadata": {},
   "outputs": [
    {
     "data": {
      "text/plain": [
       "0    24.8425246, 89.3484334\n",
       "1    21.4452963, 91.9711812\n",
       "2    22.3661323, 91.8512926\n",
       "3    23.8264315, 90.3680908\n",
       "4    23.8100632, 90.3794905\n",
       "Name: Location, dtype: object"
      ]
     },
     "execution_count": 6,
     "metadata": {},
     "output_type": "execute_result"
    }
   ],
   "source": [
    "data[\"Location\"].head()"
   ]
  },
  {
   "cell_type": "markdown",
   "metadata": {},
   "source": [
    "# As we know a location is a combination of latitude and longitude, we are going to split the location column into 2 columns, namely, latitude and longitude. "
   ]
  },
  {
   "cell_type": "code",
   "execution_count": 7,
   "metadata": {},
   "outputs": [
    {
     "data": {
      "text/html": [
       "<div>\n",
       "<style scoped>\n",
       "    .dataframe tbody tr th:only-of-type {\n",
       "        vertical-align: middle;\n",
       "    }\n",
       "\n",
       "    .dataframe tbody tr th {\n",
       "        vertical-align: top;\n",
       "    }\n",
       "\n",
       "    .dataframe thead th {\n",
       "        text-align: right;\n",
       "    }\n",
       "</style>\n",
       "<table border=\"1\" class=\"dataframe\">\n",
       "  <thead>\n",
       "    <tr style=\"text-align: right;\">\n",
       "      <th></th>\n",
       "      <th>0</th>\n",
       "      <th>1</th>\n",
       "    </tr>\n",
       "  </thead>\n",
       "  <tbody>\n",
       "    <tr>\n",
       "      <th>0</th>\n",
       "      <td>24.8425246</td>\n",
       "      <td>89.3484334</td>\n",
       "    </tr>\n",
       "    <tr>\n",
       "      <th>1</th>\n",
       "      <td>21.4452963</td>\n",
       "      <td>91.9711812</td>\n",
       "    </tr>\n",
       "    <tr>\n",
       "      <th>2</th>\n",
       "      <td>22.3661323</td>\n",
       "      <td>91.8512926</td>\n",
       "    </tr>\n",
       "    <tr>\n",
       "      <th>3</th>\n",
       "      <td>23.8264315</td>\n",
       "      <td>90.3680908</td>\n",
       "    </tr>\n",
       "    <tr>\n",
       "      <th>4</th>\n",
       "      <td>23.8100632</td>\n",
       "      <td>90.3794905</td>\n",
       "    </tr>\n",
       "  </tbody>\n",
       "</table>\n",
       "</div>"
      ],
      "text/plain": [
       "            0           1\n",
       "0  24.8425246  89.3484334\n",
       "1  21.4452963  91.9711812\n",
       "2  22.3661323  91.8512926\n",
       "3  23.8264315  90.3680908\n",
       "4  23.8100632  90.3794905"
      ]
     },
     "execution_count": 7,
     "metadata": {},
     "output_type": "execute_result"
    }
   ],
   "source": [
    "# new data frame with split value columns \n",
    "new = data[\"Location\"].str.split(\", \", n = 1, expand = True) \n",
    "new.head()"
   ]
  },
  {
   "cell_type": "markdown",
   "metadata": {},
   "source": [
    "# Short note: here n is the number of split. I want to split location column once based on ','. So I used n = 1."
   ]
  },
  {
   "cell_type": "markdown",
   "metadata": {},
   "source": [
    "# We will assign these two columns to the dataframe we have."
   ]
  },
  {
   "cell_type": "code",
   "execution_count": 8,
   "metadata": {},
   "outputs": [],
   "source": [
    "# making separate latitude column from new data frame \n",
    "data[\"lat\"]= new[0] \n",
    "  \n",
    "# making separate longitude column from new data frame \n",
    "data[\"lon\"]= new[1]\n"
   ]
  },
  {
   "cell_type": "markdown",
   "metadata": {},
   "source": [
    "# Let's see if everything is okay!"
   ]
  },
  {
   "cell_type": "code",
   "execution_count": 9,
   "metadata": {},
   "outputs": [
    {
     "data": {
      "text/html": [
       "<div>\n",
       "<style scoped>\n",
       "    .dataframe tbody tr th:only-of-type {\n",
       "        vertical-align: middle;\n",
       "    }\n",
       "\n",
       "    .dataframe tbody tr th {\n",
       "        vertical-align: top;\n",
       "    }\n",
       "\n",
       "    .dataframe thead th {\n",
       "        text-align: right;\n",
       "    }\n",
       "</style>\n",
       "<table border=\"1\" class=\"dataframe\">\n",
       "  <thead>\n",
       "    <tr style=\"text-align: right;\">\n",
       "      <th></th>\n",
       "      <th>Location</th>\n",
       "      <th>lat</th>\n",
       "      <th>lon</th>\n",
       "    </tr>\n",
       "  </thead>\n",
       "  <tbody>\n",
       "    <tr>\n",
       "      <th>0</th>\n",
       "      <td>24.8425246, 89.3484334</td>\n",
       "      <td>24.8425246</td>\n",
       "      <td>89.3484334</td>\n",
       "    </tr>\n",
       "    <tr>\n",
       "      <th>1</th>\n",
       "      <td>21.4452963, 91.9711812</td>\n",
       "      <td>21.4452963</td>\n",
       "      <td>91.9711812</td>\n",
       "    </tr>\n",
       "    <tr>\n",
       "      <th>2</th>\n",
       "      <td>22.3661323, 91.8512926</td>\n",
       "      <td>22.3661323</td>\n",
       "      <td>91.8512926</td>\n",
       "    </tr>\n",
       "    <tr>\n",
       "      <th>3</th>\n",
       "      <td>23.8264315, 90.3680908</td>\n",
       "      <td>23.8264315</td>\n",
       "      <td>90.3680908</td>\n",
       "    </tr>\n",
       "    <tr>\n",
       "      <th>4</th>\n",
       "      <td>23.8100632, 90.3794905</td>\n",
       "      <td>23.8100632</td>\n",
       "      <td>90.3794905</td>\n",
       "    </tr>\n",
       "  </tbody>\n",
       "</table>\n",
       "</div>"
      ],
      "text/plain": [
       "                 Location         lat         lon\n",
       "0  24.8425246, 89.3484334  24.8425246  89.3484334\n",
       "1  21.4452963, 91.9711812  21.4452963  91.9711812\n",
       "2  22.3661323, 91.8512926  22.3661323  91.8512926\n",
       "3  23.8264315, 90.3680908  23.8264315  90.3680908\n",
       "4  23.8100632, 90.3794905  23.8100632  90.3794905"
      ]
     },
     "execution_count": 9,
     "metadata": {},
     "output_type": "execute_result"
    }
   ],
   "source": [
    "data.head()"
   ]
  },
  {
   "cell_type": "markdown",
   "metadata": {},
   "source": [
    "# Now we are on the final move. I will use 3 empty list to catch the lat, lon and address in the for loop. "
   ]
  },
  {
   "cell_type": "code",
   "execution_count": 10,
   "metadata": {},
   "outputs": [
    {
     "name": "stdout",
     "output_type": "stream",
     "text": [
      "Address 0 is Ready...\n",
      "Address 1 is Ready...\n",
      "Address 2 is Ready...\n",
      "Address 3 is Ready...\n",
      "Address 4 is Ready...\n",
      "Address 5 is Ready...\n",
      "Address 6 is Ready...\n",
      "Address 7 is Ready...\n",
      "Address 8 is Ready...\n",
      "Address 9 is Ready...\n",
      "\n",
      "\n",
      "############### All Addresses are Ready! ###############\n"
     ]
    }
   ],
   "source": [
    "sl_no = []\n",
    "latitude = []\n",
    "longitude = []\n",
    "address = []\n",
    "for i in range(len(data)):\n",
    "    lat = data[\"lat\"][i]\n",
    "    lon = data[\"lon\"][i]\n",
    "    location = locator.reverse(\"{}, {}\".format(lat, lon))\n",
    "    latitude.append(lat)\n",
    "    longitude.append(lon)\n",
    "    sl_no.append(i)\n",
    "    address.append(location.address)\n",
    "    print(\"Address {} is Ready...\".format(i))\n",
    "    \n",
    "print(\"\\n\\n############### All Addresses are Ready! ###############\")"
   ]
  },
  {
   "cell_type": "markdown",
   "metadata": {},
   "source": [
    "# It will let us know when all the addresses are ready."
   ]
  },
  {
   "cell_type": "markdown",
   "metadata": {},
   "source": [
    "# Now we will take an empty dataframe and then assign the latitude, longitude and address to this dataframe."
   ]
  },
  {
   "cell_type": "code",
   "execution_count": 11,
   "metadata": {},
   "outputs": [],
   "source": [
    "df = pd.DataFrame()\n"
   ]
  },
  {
   "cell_type": "code",
   "execution_count": 12,
   "metadata": {},
   "outputs": [],
   "source": [
    "df['lat'] = latitude \n",
    "df['lon'] = longitude\n",
    "df['address'] = address"
   ]
  },
  {
   "cell_type": "markdown",
   "metadata": {},
   "source": [
    "# Let's check if everything going fine or not..."
   ]
  },
  {
   "cell_type": "code",
   "execution_count": 13,
   "metadata": {},
   "outputs": [
    {
     "data": {
      "text/html": [
       "<div>\n",
       "<style scoped>\n",
       "    .dataframe tbody tr th:only-of-type {\n",
       "        vertical-align: middle;\n",
       "    }\n",
       "\n",
       "    .dataframe tbody tr th {\n",
       "        vertical-align: top;\n",
       "    }\n",
       "\n",
       "    .dataframe thead th {\n",
       "        text-align: right;\n",
       "    }\n",
       "</style>\n",
       "<table border=\"1\" class=\"dataframe\">\n",
       "  <thead>\n",
       "    <tr style=\"text-align: right;\">\n",
       "      <th></th>\n",
       "      <th>lat</th>\n",
       "      <th>lon</th>\n",
       "      <th>address</th>\n",
       "    </tr>\n",
       "  </thead>\n",
       "  <tbody>\n",
       "    <tr>\n",
       "      <th>0</th>\n",
       "      <td>24.8425246</td>\n",
       "      <td>89.3484334</td>\n",
       "      <td>কলেজ রোড, কামারগাড়ি, উপশহর, বগুড়া, বগুড়া জেল...</td>\n",
       "    </tr>\n",
       "    <tr>\n",
       "      <th>1</th>\n",
       "      <td>21.4452963</td>\n",
       "      <td>91.9711812</td>\n",
       "      <td>Cox's Bazar KG &amp; Model High School, বিমানবন্দর...</td>\n",
       "    </tr>\n",
       "    <tr>\n",
       "      <th>2</th>\n",
       "      <td>22.3661323</td>\n",
       "      <td>91.8512926</td>\n",
       "      <td>চক বাজার, বায়েজীদ বোস্তামী, চট্টগ্রাম, চট্টগ্...</td>\n",
       "    </tr>\n",
       "    <tr>\n",
       "      <th>3</th>\n",
       "      <td>23.8264315</td>\n",
       "      <td>90.3680908</td>\n",
       "      <td>Mahdum telecom(মাহদুম টেলিকম), ৪০, Road 8, সেক...</td>\n",
       "    </tr>\n",
       "    <tr>\n",
       "      <th>4</th>\n",
       "      <td>23.8100632</td>\n",
       "      <td>90.3794905</td>\n",
       "      <td>সেনপাডা, সেকশন ১৩, ঢাকা, ঢাকা জেলা, ঢাকা বিভাগ...</td>\n",
       "    </tr>\n",
       "  </tbody>\n",
       "</table>\n",
       "</div>"
      ],
      "text/plain": [
       "          lat         lon                                            address\n",
       "0  24.8425246  89.3484334  কলেজ রোড, কামারগাড়ি, উপশহর, বগুড়া, বগুড়া জেল...\n",
       "1  21.4452963  91.9711812  Cox's Bazar KG & Model High School, বিমানবন্দর...\n",
       "2  22.3661323  91.8512926  চক বাজার, বায়েজীদ বোস্তামী, চট্টগ্রাম, চট্টগ্...\n",
       "3  23.8264315  90.3680908  Mahdum telecom(মাহদুম টেলিকম), ৪০, Road 8, সেক...\n",
       "4  23.8100632  90.3794905  সেনপাডা, সেকশন ১৩, ঢাকা, ঢাকা জেলা, ঢাকা বিভাগ..."
      ]
     },
     "execution_count": 13,
     "metadata": {},
     "output_type": "execute_result"
    }
   ],
   "source": [
    "df.head()"
   ]
  },
  {
   "cell_type": "markdown",
   "metadata": {},
   "source": [
    "# Looks like we have got what we were looking for! We have generated address from latitude and longitude. \n",
    "# Now we will save this as an excel file in our local storage."
   ]
  },
  {
   "cell_type": "code",
   "execution_count": 14,
   "metadata": {},
   "outputs": [],
   "source": [
    "df.to_excel(\"Geocode_Reversed.xlsx\")"
   ]
  },
  {
   "cell_type": "markdown",
   "metadata": {},
   "source": [
    "# Happy Reverse Geocoding..!!"
   ]
  },
  {
   "cell_type": "code",
   "execution_count": null,
   "metadata": {},
   "outputs": [],
   "source": []
  }
 ],
 "metadata": {
  "kernelspec": {
   "display_name": "Python 3",
   "language": "python",
   "name": "python3"
  },
  "language_info": {
   "codemirror_mode": {
    "name": "ipython",
    "version": 3
   },
   "file_extension": ".py",
   "mimetype": "text/x-python",
   "name": "python",
   "nbconvert_exporter": "python",
   "pygments_lexer": "ipython3",
   "version": "3.7.1"
  }
 },
 "nbformat": 4,
 "nbformat_minor": 2
}
